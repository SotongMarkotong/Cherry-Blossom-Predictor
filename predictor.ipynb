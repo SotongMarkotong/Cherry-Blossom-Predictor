{
 "cells": [
  {
   "cell_type": "markdown",
   "id": "101a3874-4fdf-4d77-83a9-ddcd107e39a6",
   "metadata": {},
   "source": [
    "## Imports"
   ]
  },
  {
   "cell_type": "code",
   "execution_count": 1,
   "id": "059a9bfc-81cd-4ad2-a9d5-71ed1b38aa0f",
   "metadata": {},
   "outputs": [],
   "source": [
    "import random\n",
    "import altair as alt\n",
    "import pandas as pd\n",
    "import numpy as np\n",
    "from sklearn import set_config\n",
    "from sklearn.compose import make_column_transformer\n",
    "from sklearn.dummy import DummyRegressor\n",
    "from sklearn.linear_model import Ridge\n",
    "from sklearn.pipeline import make_pipeline\n",
    "from sklearn.preprocessing import StandardScaler\n",
    "from sklearn.metrics import confusion_matrix\n",
    "from sklearn.model_selection import RandomizedSearchCV, cross_validate\n",
    "from sklearn.model_selection import train_test_split\n",
    "from sklearn.metrics import mean_squared_error\n",
    "\n",
    "np.random.seed(123) # setting the seed for repoducibility"
   ]
  },
  {
   "cell_type": "markdown",
   "id": "4562f7b5-781c-4c3e-b2b3-6ae057d79485",
   "metadata": {},
   "source": [
    "**Dataset source**: https://github.com/GMU-CherryBlossomCompetition/peak-bloom-prediction/tree/main/data"
   ]
  },
  {
   "cell_type": "markdown",
   "id": "bcce26da-e7d5-479f-a326-b41b90e6957d",
   "metadata": {},
   "source": [
    "## 1. Initial Observation<a name=\"1\"></a>"
   ]
  },
  {
   "cell_type": "code",
   "execution_count": 2,
   "id": "8152bdfe-a967-418c-acf0-7e6f3f604ebb",
   "metadata": {},
   "outputs": [
    {
     "data": {
      "text/html": [
       "<div>\n",
       "<style scoped>\n",
       "    .dataframe tbody tr th:only-of-type {\n",
       "        vertical-align: middle;\n",
       "    }\n",
       "\n",
       "    .dataframe tbody tr th {\n",
       "        vertical-align: top;\n",
       "    }\n",
       "\n",
       "    .dataframe thead th {\n",
       "        text-align: right;\n",
       "    }\n",
       "</style>\n",
       "<table border=\"1\" class=\"dataframe\">\n",
       "  <thead>\n",
       "    <tr style=\"text-align: right;\">\n",
       "      <th></th>\n",
       "      <th>location</th>\n",
       "      <th>lat</th>\n",
       "      <th>long</th>\n",
       "      <th>alt</th>\n",
       "      <th>year</th>\n",
       "      <th>bloom_date</th>\n",
       "      <th>bloom_doy</th>\n",
       "    </tr>\n",
       "  </thead>\n",
       "  <tbody>\n",
       "    <tr>\n",
       "      <th>0</th>\n",
       "      <td>kyoto</td>\n",
       "      <td>35.011983</td>\n",
       "      <td>135.676114</td>\n",
       "      <td>44</td>\n",
       "      <td>812</td>\n",
       "      <td>0812-04-01</td>\n",
       "      <td>92</td>\n",
       "    </tr>\n",
       "    <tr>\n",
       "      <th>1</th>\n",
       "      <td>kyoto</td>\n",
       "      <td>35.011983</td>\n",
       "      <td>135.676114</td>\n",
       "      <td>44</td>\n",
       "      <td>815</td>\n",
       "      <td>0815-04-15</td>\n",
       "      <td>105</td>\n",
       "    </tr>\n",
       "    <tr>\n",
       "      <th>2</th>\n",
       "      <td>kyoto</td>\n",
       "      <td>35.011983</td>\n",
       "      <td>135.676114</td>\n",
       "      <td>44</td>\n",
       "      <td>831</td>\n",
       "      <td>0831-04-06</td>\n",
       "      <td>96</td>\n",
       "    </tr>\n",
       "    <tr>\n",
       "      <th>3</th>\n",
       "      <td>kyoto</td>\n",
       "      <td>35.011983</td>\n",
       "      <td>135.676114</td>\n",
       "      <td>44</td>\n",
       "      <td>851</td>\n",
       "      <td>0851-04-18</td>\n",
       "      <td>108</td>\n",
       "    </tr>\n",
       "    <tr>\n",
       "      <th>4</th>\n",
       "      <td>kyoto</td>\n",
       "      <td>35.011983</td>\n",
       "      <td>135.676114</td>\n",
       "      <td>44</td>\n",
       "      <td>853</td>\n",
       "      <td>0853-04-14</td>\n",
       "      <td>104</td>\n",
       "    </tr>\n",
       "  </tbody>\n",
       "</table>\n",
       "</div>"
      ],
      "text/plain": [
       "  location        lat        long  alt  year  bloom_date  bloom_doy\n",
       "0    kyoto  35.011983  135.676114   44   812  0812-04-01         92\n",
       "1    kyoto  35.011983  135.676114   44   815  0815-04-15        105\n",
       "2    kyoto  35.011983  135.676114   44   831  0831-04-06         96\n",
       "3    kyoto  35.011983  135.676114   44   851  0851-04-18        108\n",
       "4    kyoto  35.011983  135.676114   44   853  0853-04-14        104"
      ]
     },
     "execution_count": 2,
     "metadata": {},
     "output_type": "execute_result"
    }
   ],
   "source": [
    "url_kyoto = \"https://raw.githubusercontent.com/SotongMarkotong/Cherry-Blossom-Predictor/main/kyoto.csv\"\n",
    "kyoto_df = pd.read_csv(url_kyoto)\n",
    "kyoto_df.head()"
   ]
  },
  {
   "cell_type": "markdown",
   "id": "58e80a4b-dd81-4c49-a351-de0ea02a62fc",
   "metadata": {},
   "source": [
    "**Features:**\n",
    "1. location: The location of the cherry blossom. All values are the same, which is in Kyoto.\n",
    "2. lat: The latitude of the observation.\n",
    "3. long: The longitude of the observation.\n",
    "4. alt: The altitude of the observation.\n",
    "5. year: The year of the bloom observation.\n",
    "6. bloom_date: The date of peak bloom of the cherry trees.\n",
    "7. bloom_doy: Number of days since January 1st until peak bloom. (January 1st = 1)\n",
    "<br>\n",
    "<br>"
   ]
  },
  {
   "cell_type": "markdown",
   "id": "aa7a4f96-1139-498a-b5ed-b5a526303f01",
   "metadata": {},
   "source": [
    "## 2. Data splitting <a name=\"2\"></a>"
   ]
  },
  {
   "cell_type": "code",
   "execution_count": 3,
   "id": "0c3f3dd1-0c7d-485d-8e36-8b2f6e622685",
   "metadata": {},
   "outputs": [
    {
     "data": {
      "text/html": [
       "<div>\n",
       "<style scoped>\n",
       "    .dataframe tbody tr th:only-of-type {\n",
       "        vertical-align: middle;\n",
       "    }\n",
       "\n",
       "    .dataframe tbody tr th {\n",
       "        vertical-align: top;\n",
       "    }\n",
       "\n",
       "    .dataframe thead th {\n",
       "        text-align: right;\n",
       "    }\n",
       "</style>\n",
       "<table border=\"1\" class=\"dataframe\">\n",
       "  <thead>\n",
       "    <tr style=\"text-align: right;\">\n",
       "      <th></th>\n",
       "      <th>location</th>\n",
       "      <th>lat</th>\n",
       "      <th>long</th>\n",
       "      <th>alt</th>\n",
       "      <th>year</th>\n",
       "      <th>bloom_date</th>\n",
       "      <th>bloom_doy</th>\n",
       "    </tr>\n",
       "  </thead>\n",
       "  <tbody>\n",
       "    <tr>\n",
       "      <th>200</th>\n",
       "      <td>kyoto</td>\n",
       "      <td>35.011983</td>\n",
       "      <td>135.676114</td>\n",
       "      <td>44</td>\n",
       "      <td>1316</td>\n",
       "      <td>1316-04-12</td>\n",
       "      <td>103</td>\n",
       "    </tr>\n",
       "    <tr>\n",
       "      <th>625</th>\n",
       "      <td>kyoto</td>\n",
       "      <td>35.011983</td>\n",
       "      <td>135.676114</td>\n",
       "      <td>44</td>\n",
       "      <td>1809</td>\n",
       "      <td>1809-04-17</td>\n",
       "      <td>107</td>\n",
       "    </tr>\n",
       "    <tr>\n",
       "      <th>599</th>\n",
       "      <td>kyoto</td>\n",
       "      <td>35.011983</td>\n",
       "      <td>135.676114</td>\n",
       "      <td>44</td>\n",
       "      <td>1783</td>\n",
       "      <td>1783-04-13</td>\n",
       "      <td>103</td>\n",
       "    </tr>\n",
       "    <tr>\n",
       "      <th>703</th>\n",
       "      <td>kyoto</td>\n",
       "      <td>35.011983</td>\n",
       "      <td>135.676114</td>\n",
       "      <td>44</td>\n",
       "      <td>1888</td>\n",
       "      <td>1888-04-16</td>\n",
       "      <td>107</td>\n",
       "    </tr>\n",
       "    <tr>\n",
       "      <th>369</th>\n",
       "      <td>kyoto</td>\n",
       "      <td>35.011983</td>\n",
       "      <td>135.676114</td>\n",
       "      <td>44</td>\n",
       "      <td>1533</td>\n",
       "      <td>1533-04-21</td>\n",
       "      <td>111</td>\n",
       "    </tr>\n",
       "  </tbody>\n",
       "</table>\n",
       "</div>"
      ],
      "text/plain": [
       "    location        lat        long  alt  year  bloom_date  bloom_doy\n",
       "200    kyoto  35.011983  135.676114   44  1316  1316-04-12        103\n",
       "625    kyoto  35.011983  135.676114   44  1809  1809-04-17        107\n",
       "599    kyoto  35.011983  135.676114   44  1783  1783-04-13        103\n",
       "703    kyoto  35.011983  135.676114   44  1888  1888-04-16        107\n",
       "369    kyoto  35.011983  135.676114   44  1533  1533-04-21        111"
      ]
     },
     "execution_count": 3,
     "metadata": {},
     "output_type": "execute_result"
    }
   ],
   "source": [
    "kyoto_train, kyoto_test = train_test_split(kyoto_df, test_size = 0.25, random_state = 123)\n",
    "kyoto_train.head()"
   ]
  },
  {
   "cell_type": "markdown",
   "id": "22cd8d00-8ad0-402e-b3d9-386faa2fbec0",
   "metadata": {},
   "source": [
    "Splitting the dataset into training and testing with size 0.75 and 0.25 respectively. This splitting is to make sure that the model is not influenced by the test set at all. random_state is used for replicability.<br>\n",
    "<br>"
   ]
  },
  {
   "cell_type": "markdown",
   "id": "5cf43d98-1faf-4e63-95ff-8af18dec9827",
   "metadata": {},
   "source": [
    "## 3. Exploratory Data Analysis<a name=\"3\"></a>"
   ]
  },
  {
   "cell_type": "code",
   "execution_count": 4,
   "id": "e7839c5f-12ff-48bb-8ddc-f40e08a4cd0e",
   "metadata": {},
   "outputs": [
    {
     "data": {
      "text/html": [
       "<div>\n",
       "<style scoped>\n",
       "    .dataframe tbody tr th:only-of-type {\n",
       "        vertical-align: middle;\n",
       "    }\n",
       "\n",
       "    .dataframe tbody tr th {\n",
       "        vertical-align: top;\n",
       "    }\n",
       "\n",
       "    .dataframe thead th {\n",
       "        text-align: right;\n",
       "    }\n",
       "</style>\n",
       "<table border=\"1\" class=\"dataframe\">\n",
       "  <thead>\n",
       "    <tr style=\"text-align: right;\">\n",
       "      <th></th>\n",
       "      <th>location</th>\n",
       "      <th>lat</th>\n",
       "      <th>long</th>\n",
       "      <th>alt</th>\n",
       "      <th>year</th>\n",
       "      <th>bloom_date</th>\n",
       "      <th>bloom_doy</th>\n",
       "    </tr>\n",
       "  </thead>\n",
       "  <tbody>\n",
       "    <tr>\n",
       "      <th>count</th>\n",
       "      <td>626</td>\n",
       "      <td>6.260000e+02</td>\n",
       "      <td>6.260000e+02</td>\n",
       "      <td>626.0</td>\n",
       "      <td>626.000000</td>\n",
       "      <td>626</td>\n",
       "      <td>626.000000</td>\n",
       "    </tr>\n",
       "    <tr>\n",
       "      <th>unique</th>\n",
       "      <td>1</td>\n",
       "      <td>NaN</td>\n",
       "      <td>NaN</td>\n",
       "      <td>NaN</td>\n",
       "      <td>NaN</td>\n",
       "      <td>626</td>\n",
       "      <td>NaN</td>\n",
       "    </tr>\n",
       "    <tr>\n",
       "      <th>top</th>\n",
       "      <td>kyoto</td>\n",
       "      <td>NaN</td>\n",
       "      <td>NaN</td>\n",
       "      <td>NaN</td>\n",
       "      <td>NaN</td>\n",
       "      <td>1316-04-12</td>\n",
       "      <td>NaN</td>\n",
       "    </tr>\n",
       "    <tr>\n",
       "      <th>freq</th>\n",
       "      <td>626</td>\n",
       "      <td>NaN</td>\n",
       "      <td>NaN</td>\n",
       "      <td>NaN</td>\n",
       "      <td>NaN</td>\n",
       "      <td>1</td>\n",
       "      <td>NaN</td>\n",
       "    </tr>\n",
       "    <tr>\n",
       "      <th>mean</th>\n",
       "      <td>NaN</td>\n",
       "      <td>3.501198e+01</td>\n",
       "      <td>1.356761e+02</td>\n",
       "      <td>44.0</td>\n",
       "      <td>1555.563898</td>\n",
       "      <td>NaN</td>\n",
       "      <td>104.397764</td>\n",
       "    </tr>\n",
       "    <tr>\n",
       "      <th>std</th>\n",
       "      <td>NaN</td>\n",
       "      <td>4.977777e-14</td>\n",
       "      <td>1.052444e-12</td>\n",
       "      <td>0.0</td>\n",
       "      <td>304.002947</td>\n",
       "      <td>NaN</td>\n",
       "      <td>6.542166</td>\n",
       "    </tr>\n",
       "    <tr>\n",
       "      <th>min</th>\n",
       "      <td>NaN</td>\n",
       "      <td>3.501198e+01</td>\n",
       "      <td>1.356761e+02</td>\n",
       "      <td>44.0</td>\n",
       "      <td>812.000000</td>\n",
       "      <td>NaN</td>\n",
       "      <td>84.000000</td>\n",
       "    </tr>\n",
       "    <tr>\n",
       "      <th>25%</th>\n",
       "      <td>NaN</td>\n",
       "      <td>3.501198e+01</td>\n",
       "      <td>1.356761e+02</td>\n",
       "      <td>44.0</td>\n",
       "      <td>1334.500000</td>\n",
       "      <td>NaN</td>\n",
       "      <td>100.000000</td>\n",
       "    </tr>\n",
       "    <tr>\n",
       "      <th>50%</th>\n",
       "      <td>NaN</td>\n",
       "      <td>3.501198e+01</td>\n",
       "      <td>1.356761e+02</td>\n",
       "      <td>44.0</td>\n",
       "      <td>1588.500000</td>\n",
       "      <td>NaN</td>\n",
       "      <td>104.500000</td>\n",
       "    </tr>\n",
       "    <tr>\n",
       "      <th>75%</th>\n",
       "      <td>NaN</td>\n",
       "      <td>3.501198e+01</td>\n",
       "      <td>1.356761e+02</td>\n",
       "      <td>44.0</td>\n",
       "      <td>1805.750000</td>\n",
       "      <td>NaN</td>\n",
       "      <td>109.000000</td>\n",
       "    </tr>\n",
       "    <tr>\n",
       "      <th>max</th>\n",
       "      <td>NaN</td>\n",
       "      <td>3.501198e+01</td>\n",
       "      <td>1.356761e+02</td>\n",
       "      <td>44.0</td>\n",
       "      <td>2023.000000</td>\n",
       "      <td>NaN</td>\n",
       "      <td>124.000000</td>\n",
       "    </tr>\n",
       "  </tbody>\n",
       "</table>\n",
       "</div>"
      ],
      "text/plain": [
       "       location           lat          long    alt         year  bloom_date  \\\n",
       "count       626  6.260000e+02  6.260000e+02  626.0   626.000000         626   \n",
       "unique        1           NaN           NaN    NaN          NaN         626   \n",
       "top       kyoto           NaN           NaN    NaN          NaN  1316-04-12   \n",
       "freq        626           NaN           NaN    NaN          NaN           1   \n",
       "mean        NaN  3.501198e+01  1.356761e+02   44.0  1555.563898         NaN   \n",
       "std         NaN  4.977777e-14  1.052444e-12    0.0   304.002947         NaN   \n",
       "min         NaN  3.501198e+01  1.356761e+02   44.0   812.000000         NaN   \n",
       "25%         NaN  3.501198e+01  1.356761e+02   44.0  1334.500000         NaN   \n",
       "50%         NaN  3.501198e+01  1.356761e+02   44.0  1588.500000         NaN   \n",
       "75%         NaN  3.501198e+01  1.356761e+02   44.0  1805.750000         NaN   \n",
       "max         NaN  3.501198e+01  1.356761e+02   44.0  2023.000000         NaN   \n",
       "\n",
       "         bloom_doy  \n",
       "count   626.000000  \n",
       "unique         NaN  \n",
       "top            NaN  \n",
       "freq           NaN  \n",
       "mean    104.397764  \n",
       "std       6.542166  \n",
       "min      84.000000  \n",
       "25%     100.000000  \n",
       "50%     104.500000  \n",
       "75%     109.000000  \n",
       "max     124.000000  "
      ]
     },
     "execution_count": 4,
     "metadata": {},
     "output_type": "execute_result"
    }
   ],
   "source": [
    "kyoto_summary = kyoto_train.describe(include = \"all\")\n",
    "kyoto_summary"
   ]
  },
  {
   "cell_type": "code",
   "execution_count": 5,
   "id": "c6923355-6716-40ff-b4b7-1ecbcc97d6f6",
   "metadata": {},
   "outputs": [
    {
     "name": "stdout",
     "output_type": "stream",
     "text": [
      "<class 'pandas.core.frame.DataFrame'>\n",
      "Index: 626 entries, 200 to 510\n",
      "Data columns (total 7 columns):\n",
      " #   Column      Non-Null Count  Dtype  \n",
      "---  ------      --------------  -----  \n",
      " 0   location    626 non-null    object \n",
      " 1   lat         626 non-null    float64\n",
      " 2   long        626 non-null    float64\n",
      " 3   alt         626 non-null    int64  \n",
      " 4   year        626 non-null    int64  \n",
      " 5   bloom_date  626 non-null    object \n",
      " 6   bloom_doy   626 non-null    int64  \n",
      "dtypes: float64(2), int64(3), object(2)\n",
      "memory usage: 39.1+ KB\n"
     ]
    }
   ],
   "source": [
    "kyoto_train.info()"
   ]
  },
  {
   "cell_type": "markdown",
   "id": "603ca021-4665-429a-893d-ceff81e359fc",
   "metadata": {},
   "source": [
    "**Observations from summary statistics:**\n",
    "We can see that the count from describe() is the same as the Non-Null count from info() for all features. This shows that there are no features with missing values, and we do not need to do imputation. We can also see that some features are numeric and mostly will need scaling since the range = (min to max) of each feature is different. The data seems also to be already tidied so no further processing other than scaling, dropping, or encoding should be done.<br>\n",
    "<br>\n",
    "<br>"
   ]
  },
  {
   "cell_type": "markdown",
   "id": "e04cddea-bf62-4ad9-8a9d-41578d62655a",
   "metadata": {},
   "source": [
    "## 4. Preprocessing and transformations <a name=\"4\"></a>\n",
    "<hr>"
   ]
  },
  {
   "cell_type": "markdown",
   "id": "bbfab430-68e0-4bd8-b5b9-13990f4dff6b",
   "metadata": {},
   "source": [
    "Now we split the features and group them with their characteristics. We decided to drop the location feature as all we're only considering Kyoto's bloom day and all locations are the same, hence there is no predictive value from location feature. We're also dropping bloom_date as it is the same representation with bloom_doy in date format. All other features are numeric and will be scaled with standardization."
   ]
  },
  {
   "cell_type": "code",
   "execution_count": 6,
   "id": "99b85182-6914-4c84-96cb-70945c0fa286",
   "metadata": {},
   "outputs": [
    {
     "name": "stdout",
     "output_type": "stream",
     "text": [
      "numeric features: ['lat', 'long', 'alt', 'year']\n",
      "drop features: ['location', 'bloom_date']\n",
      "target: bloom_doy\n"
     ]
    }
   ],
   "source": [
    "numeric_features = ['lat', 'long', 'alt', 'year']\n",
    "drop_features = [\"location\", \"bloom_date\"]\n",
    "target = \"bloom_doy\"\n",
    "print(\"numeric features:\", numeric_features)\n",
    "print(\"drop features:\", drop_features)\n",
    "print(\"target:\", target)"
   ]
  },
  {
   "cell_type": "markdown",
   "id": "92a42208-1c31-4e57-94f3-f56e1e83ac95",
   "metadata": {},
   "source": [
    "**So**, there are 3 feature types in our case: numeric features, drop features, and the target. We will create a column_transformer consisting of both a numeric transformer(Scaling) and a drop_transformer(drop).\n",
    " <br>"
   ]
  },
  {
   "cell_type": "code",
   "execution_count": 7,
   "id": "9e84f91e-7e92-45d9-a3db-06be7c3f5ae2",
   "metadata": {},
   "outputs": [
    {
     "data": {
      "text/html": [
       "<style>#sk-container-id-1 {color: black;}#sk-container-id-1 pre{padding: 0;}#sk-container-id-1 div.sk-toggleable {background-color: white;}#sk-container-id-1 label.sk-toggleable__label {cursor: pointer;display: block;width: 100%;margin-bottom: 0;padding: 0.3em;box-sizing: border-box;text-align: center;}#sk-container-id-1 label.sk-toggleable__label-arrow:before {content: \"▸\";float: left;margin-right: 0.25em;color: #696969;}#sk-container-id-1 label.sk-toggleable__label-arrow:hover:before {color: black;}#sk-container-id-1 div.sk-estimator:hover label.sk-toggleable__label-arrow:before {color: black;}#sk-container-id-1 div.sk-toggleable__content {max-height: 0;max-width: 0;overflow: hidden;text-align: left;background-color: #f0f8ff;}#sk-container-id-1 div.sk-toggleable__content pre {margin: 0.2em;color: black;border-radius: 0.25em;background-color: #f0f8ff;}#sk-container-id-1 input.sk-toggleable__control:checked~div.sk-toggleable__content {max-height: 200px;max-width: 100%;overflow: auto;}#sk-container-id-1 input.sk-toggleable__control:checked~label.sk-toggleable__label-arrow:before {content: \"▾\";}#sk-container-id-1 div.sk-estimator input.sk-toggleable__control:checked~label.sk-toggleable__label {background-color: #d4ebff;}#sk-container-id-1 div.sk-label input.sk-toggleable__control:checked~label.sk-toggleable__label {background-color: #d4ebff;}#sk-container-id-1 input.sk-hidden--visually {border: 0;clip: rect(1px 1px 1px 1px);clip: rect(1px, 1px, 1px, 1px);height: 1px;margin: -1px;overflow: hidden;padding: 0;position: absolute;width: 1px;}#sk-container-id-1 div.sk-estimator {font-family: monospace;background-color: #f0f8ff;border: 1px dotted black;border-radius: 0.25em;box-sizing: border-box;margin-bottom: 0.5em;}#sk-container-id-1 div.sk-estimator:hover {background-color: #d4ebff;}#sk-container-id-1 div.sk-parallel-item::after {content: \"\";width: 100%;border-bottom: 1px solid gray;flex-grow: 1;}#sk-container-id-1 div.sk-label:hover label.sk-toggleable__label {background-color: #d4ebff;}#sk-container-id-1 div.sk-serial::before {content: \"\";position: absolute;border-left: 1px solid gray;box-sizing: border-box;top: 0;bottom: 0;left: 50%;z-index: 0;}#sk-container-id-1 div.sk-serial {display: flex;flex-direction: column;align-items: center;background-color: white;padding-right: 0.2em;padding-left: 0.2em;position: relative;}#sk-container-id-1 div.sk-item {position: relative;z-index: 1;}#sk-container-id-1 div.sk-parallel {display: flex;align-items: stretch;justify-content: center;background-color: white;position: relative;}#sk-container-id-1 div.sk-item::before, #sk-container-id-1 div.sk-parallel-item::before {content: \"\";position: absolute;border-left: 1px solid gray;box-sizing: border-box;top: 0;bottom: 0;left: 50%;z-index: -1;}#sk-container-id-1 div.sk-parallel-item {display: flex;flex-direction: column;z-index: 1;position: relative;background-color: white;}#sk-container-id-1 div.sk-parallel-item:first-child::after {align-self: flex-end;width: 50%;}#sk-container-id-1 div.sk-parallel-item:last-child::after {align-self: flex-start;width: 50%;}#sk-container-id-1 div.sk-parallel-item:only-child::after {width: 0;}#sk-container-id-1 div.sk-dashed-wrapped {border: 1px dashed gray;margin: 0 0.4em 0.5em 0.4em;box-sizing: border-box;padding-bottom: 0.4em;background-color: white;}#sk-container-id-1 div.sk-label label {font-family: monospace;font-weight: bold;display: inline-block;line-height: 1.2em;}#sk-container-id-1 div.sk-label-container {text-align: center;}#sk-container-id-1 div.sk-container {/* jupyter's `normalize.less` sets `[hidden] { display: none; }` but bootstrap.min.css set `[hidden] { display: none !important; }` so we also need the `!important` here to be able to override the default hidden behavior on the sphinx rendered scikit-learn.org. See: https://github.com/scikit-learn/scikit-learn/issues/21755 */display: inline-block !important;position: relative;}#sk-container-id-1 div.sk-text-repr-fallback {display: none;}</style><div id=\"sk-container-id-1\" class=\"sk-top-container\"><div class=\"sk-text-repr-fallback\"><pre>ColumnTransformer(transformers=[(&#x27;standardscaler&#x27;, StandardScaler(),\n",
       "                                 [&#x27;lat&#x27;, &#x27;long&#x27;, &#x27;alt&#x27;, &#x27;year&#x27;]),\n",
       "                                (&#x27;drop&#x27;, &#x27;drop&#x27;, [&#x27;location&#x27;, &#x27;bloom_date&#x27;])])</pre><b>In a Jupyter environment, please rerun this cell to show the HTML representation or trust the notebook. <br />On GitHub, the HTML representation is unable to render, please try loading this page with nbviewer.org.</b></div><div class=\"sk-container\" hidden><div class=\"sk-item sk-dashed-wrapped\"><div class=\"sk-label-container\"><div class=\"sk-label sk-toggleable\"><input class=\"sk-toggleable__control sk-hidden--visually\" id=\"sk-estimator-id-1\" type=\"checkbox\" ><label for=\"sk-estimator-id-1\" class=\"sk-toggleable__label sk-toggleable__label-arrow\">ColumnTransformer</label><div class=\"sk-toggleable__content\"><pre>ColumnTransformer(transformers=[(&#x27;standardscaler&#x27;, StandardScaler(),\n",
       "                                 [&#x27;lat&#x27;, &#x27;long&#x27;, &#x27;alt&#x27;, &#x27;year&#x27;]),\n",
       "                                (&#x27;drop&#x27;, &#x27;drop&#x27;, [&#x27;location&#x27;, &#x27;bloom_date&#x27;])])</pre></div></div></div><div class=\"sk-parallel\"><div class=\"sk-parallel-item\"><div class=\"sk-item\"><div class=\"sk-label-container\"><div class=\"sk-label sk-toggleable\"><input class=\"sk-toggleable__control sk-hidden--visually\" id=\"sk-estimator-id-2\" type=\"checkbox\" ><label for=\"sk-estimator-id-2\" class=\"sk-toggleable__label sk-toggleable__label-arrow\">standardscaler</label><div class=\"sk-toggleable__content\"><pre>[&#x27;lat&#x27;, &#x27;long&#x27;, &#x27;alt&#x27;, &#x27;year&#x27;]</pre></div></div></div><div class=\"sk-serial\"><div class=\"sk-item\"><div class=\"sk-estimator sk-toggleable\"><input class=\"sk-toggleable__control sk-hidden--visually\" id=\"sk-estimator-id-3\" type=\"checkbox\" ><label for=\"sk-estimator-id-3\" class=\"sk-toggleable__label sk-toggleable__label-arrow\">StandardScaler</label><div class=\"sk-toggleable__content\"><pre>StandardScaler()</pre></div></div></div></div></div></div><div class=\"sk-parallel-item\"><div class=\"sk-item\"><div class=\"sk-label-container\"><div class=\"sk-label sk-toggleable\"><input class=\"sk-toggleable__control sk-hidden--visually\" id=\"sk-estimator-id-4\" type=\"checkbox\" ><label for=\"sk-estimator-id-4\" class=\"sk-toggleable__label sk-toggleable__label-arrow\">drop</label><div class=\"sk-toggleable__content\"><pre>[&#x27;location&#x27;, &#x27;bloom_date&#x27;]</pre></div></div></div><div class=\"sk-serial\"><div class=\"sk-item\"><div class=\"sk-estimator sk-toggleable\"><input class=\"sk-toggleable__control sk-hidden--visually\" id=\"sk-estimator-id-5\" type=\"checkbox\" ><label for=\"sk-estimator-id-5\" class=\"sk-toggleable__label sk-toggleable__label-arrow\">drop</label><div class=\"sk-toggleable__content\"><pre>drop</pre></div></div></div></div></div></div></div></div></div></div>"
      ],
      "text/plain": [
       "ColumnTransformer(transformers=[('standardscaler', StandardScaler(),\n",
       "                                 ['lat', 'long', 'alt', 'year']),\n",
       "                                ('drop', 'drop', ['location', 'bloom_date'])])"
      ]
     },
     "execution_count": 7,
     "metadata": {},
     "output_type": "execute_result"
    }
   ],
   "source": [
    "numeric_transformer = StandardScaler()\n",
    "\n",
    "preprocessor = make_column_transformer(\n",
    "    (numeric_transformer, numeric_features),\n",
    "    (\"drop\", drop_features)\n",
    ")\n",
    "preprocessor"
   ]
  },
  {
   "cell_type": "markdown",
   "id": "a93d88fe-963c-412b-8624-87cdeffeefe3",
   "metadata": {},
   "source": [
    "Now, we should split the train and test data sets into the predictors(X) and target(Y)."
   ]
  },
  {
   "cell_type": "code",
   "execution_count": 8,
   "id": "1cff0276-648d-4bab-8f79-1807278b8b2e",
   "metadata": {},
   "outputs": [
    {
     "data": {
      "text/html": [
       "<div>\n",
       "<style scoped>\n",
       "    .dataframe tbody tr th:only-of-type {\n",
       "        vertical-align: middle;\n",
       "    }\n",
       "\n",
       "    .dataframe tbody tr th {\n",
       "        vertical-align: top;\n",
       "    }\n",
       "\n",
       "    .dataframe thead th {\n",
       "        text-align: right;\n",
       "    }\n",
       "</style>\n",
       "<table border=\"1\" class=\"dataframe\">\n",
       "  <thead>\n",
       "    <tr style=\"text-align: right;\">\n",
       "      <th></th>\n",
       "      <th>location</th>\n",
       "      <th>lat</th>\n",
       "      <th>long</th>\n",
       "      <th>alt</th>\n",
       "      <th>year</th>\n",
       "      <th>bloom_date</th>\n",
       "    </tr>\n",
       "  </thead>\n",
       "  <tbody>\n",
       "    <tr>\n",
       "      <th>200</th>\n",
       "      <td>kyoto</td>\n",
       "      <td>35.011983</td>\n",
       "      <td>135.676114</td>\n",
       "      <td>44</td>\n",
       "      <td>1316</td>\n",
       "      <td>1316-04-12</td>\n",
       "    </tr>\n",
       "    <tr>\n",
       "      <th>625</th>\n",
       "      <td>kyoto</td>\n",
       "      <td>35.011983</td>\n",
       "      <td>135.676114</td>\n",
       "      <td>44</td>\n",
       "      <td>1809</td>\n",
       "      <td>1809-04-17</td>\n",
       "    </tr>\n",
       "    <tr>\n",
       "      <th>599</th>\n",
       "      <td>kyoto</td>\n",
       "      <td>35.011983</td>\n",
       "      <td>135.676114</td>\n",
       "      <td>44</td>\n",
       "      <td>1783</td>\n",
       "      <td>1783-04-13</td>\n",
       "    </tr>\n",
       "    <tr>\n",
       "      <th>703</th>\n",
       "      <td>kyoto</td>\n",
       "      <td>35.011983</td>\n",
       "      <td>135.676114</td>\n",
       "      <td>44</td>\n",
       "      <td>1888</td>\n",
       "      <td>1888-04-16</td>\n",
       "    </tr>\n",
       "    <tr>\n",
       "      <th>369</th>\n",
       "      <td>kyoto</td>\n",
       "      <td>35.011983</td>\n",
       "      <td>135.676114</td>\n",
       "      <td>44</td>\n",
       "      <td>1533</td>\n",
       "      <td>1533-04-21</td>\n",
       "    </tr>\n",
       "  </tbody>\n",
       "</table>\n",
       "</div>"
      ],
      "text/plain": [
       "    location        lat        long  alt  year  bloom_date\n",
       "200    kyoto  35.011983  135.676114   44  1316  1316-04-12\n",
       "625    kyoto  35.011983  135.676114   44  1809  1809-04-17\n",
       "599    kyoto  35.011983  135.676114   44  1783  1783-04-13\n",
       "703    kyoto  35.011983  135.676114   44  1888  1888-04-16\n",
       "369    kyoto  35.011983  135.676114   44  1533  1533-04-21"
      ]
     },
     "execution_count": 8,
     "metadata": {},
     "output_type": "execute_result"
    }
   ],
   "source": [
    "X_train = kyoto_train.drop(columns = target)\n",
    "y_train = kyoto_train[target]\n",
    "X_test = kyoto_test.drop(columns = target)\n",
    "y_test = kyoto_test[target]\n",
    "X_train.head()"
   ]
  },
  {
   "cell_type": "markdown",
   "id": "2737e604-f367-4b99-94e4-4503a0aa0bdb",
   "metadata": {},
   "source": [
    "## 5. Baseline model <a name=\"5\"></a>\n",
    "<hr>"
   ]
  },
  {
   "cell_type": "markdown",
   "id": "fefa09c0-2b70-4c9a-b397-5a1da17eb593",
   "metadata": {},
   "source": [
    "We will create a baseline model to provide us a reference point as the minimum acceptable performance for our model. Since it is a regression problem, we will use DummyRegressor as the baseline with median as it's strategy. But before we start, we will create a function mean_std_cross_val_scores() that returns a panda series containing cross validation(5-fold) results including the average fit and score time, and more importantly the average test and train score with its standard deviation. The scoring of our models will use the root mean squared error strategy (the smaller the better)."
   ]
  },
  {
   "cell_type": "code",
   "execution_count": 9,
   "id": "6d32d246-1b56-4600-a4bb-dfa51004a2b1",
   "metadata": {},
   "outputs": [],
   "source": [
    "def mean_std_cross_val_scores(model, X_train, y_train, **kwargs):\n",
    "    \"\"\"\n",
    "    Returns mean and std of cross validation\n",
    "\n",
    "    Parameters\n",
    "    ----------\n",
    "    model :\n",
    "        scikit-learn model\n",
    "    X_train : numpy array or pandas DataFrame\n",
    "        X in the training data\n",
    "    y_train :\n",
    "        y in the training data\n",
    "\n",
    "    Returns\n",
    "    ----------\n",
    "        pandas Series with mean scores from cross_validation\n",
    "    \"\"\"\n",
    "\n",
    "    scores = cross_validate(model, X_train, y_train, **kwargs)\n",
    "\n",
    "    mean_scores = pd.DataFrame(scores).mean()\n",
    "    std_scores = pd.DataFrame(scores).std()\n",
    "    out_col = []\n",
    "\n",
    "    for i in range(len(mean_scores)):\n",
    "        if i > 1:\n",
    "            out_col.append((f\"%0.3f (+/- %0.3f)\" % (mean_scores[i]*-1, std_scores[i]*-1)))\n",
    "        else:\n",
    "            out_col.append((f\"%0.3f (+/- %0.3f)\" % (mean_scores[i], std_scores[i])))\n",
    "\n",
    "    return pd.Series(data=out_col, index=mean_scores.index)"
   ]
  },
  {
   "cell_type": "code",
   "execution_count": 10,
   "id": "649a84d4-fc7b-4e19-b6b1-3af218d08c8a",
   "metadata": {},
   "outputs": [
    {
     "name": "stderr",
     "output_type": "stream",
     "text": [
      "/tmp/ipykernel_245/1816060613.py:29: FutureWarning: Series.__getitem__ treating keys as positions is deprecated. In a future version, integer keys will always be treated as labels (consistent with DataFrame behavior). To access a value by position, use `ser.iloc[pos]`\n",
      "  out_col.append((f\"%0.3f (+/- %0.3f)\" % (mean_scores[i], std_scores[i])))\n",
      "/tmp/ipykernel_245/1816060613.py:27: FutureWarning: Series.__getitem__ treating keys as positions is deprecated. In a future version, integer keys will always be treated as labels (consistent with DataFrame behavior). To access a value by position, use `ser.iloc[pos]`\n",
      "  out_col.append((f\"%0.3f (+/- %0.3f)\" % (mean_scores[i]*-1, std_scores[i]*-1)))\n"
     ]
    },
    {
     "data": {
      "text/html": [
       "<div>\n",
       "<style scoped>\n",
       "    .dataframe tbody tr th:only-of-type {\n",
       "        vertical-align: middle;\n",
       "    }\n",
       "\n",
       "    .dataframe tbody tr th {\n",
       "        vertical-align: top;\n",
       "    }\n",
       "\n",
       "    .dataframe thead th {\n",
       "        text-align: right;\n",
       "    }\n",
       "</style>\n",
       "<table border=\"1\" class=\"dataframe\">\n",
       "  <thead>\n",
       "    <tr style=\"text-align: right;\">\n",
       "      <th></th>\n",
       "      <th>fit_time</th>\n",
       "      <th>score_time</th>\n",
       "      <th>test_score</th>\n",
       "      <th>train_score</th>\n",
       "    </tr>\n",
       "  </thead>\n",
       "  <tbody>\n",
       "    <tr>\n",
       "      <th>dummy</th>\n",
       "      <td>0.005 (+/- 0.000)</td>\n",
       "      <td>0.002 (+/- 0.000)</td>\n",
       "      <td>6.565 (+/- -0.565)</td>\n",
       "      <td>6.547 (+/- -0.142)</td>\n",
       "    </tr>\n",
       "  </tbody>\n",
       "</table>\n",
       "</div>"
      ],
      "text/plain": [
       "                fit_time         score_time          test_score  \\\n",
       "dummy  0.005 (+/- 0.000)  0.002 (+/- 0.000)  6.565 (+/- -0.565)   \n",
       "\n",
       "              train_score  \n",
       "dummy  6.547 (+/- -0.142)  "
      ]
     },
     "execution_count": 10,
     "metadata": {},
     "output_type": "execute_result"
    }
   ],
   "source": [
    "results_dict = {}\n",
    "dummy = DummyRegressor(strategy = \"median\")\n",
    "dummy_pipe = make_pipeline(preprocessor, dummy)\n",
    "dummy_pipe.fit(X_train, y_train)\n",
    "results_dict[\"dummy\"] = mean_std_cross_val_scores(\n",
    "    dummy_pipe, X_train, y_train, cv=5, scoring = \"neg_root_mean_squared_error\", return_train_score=True\n",
    ")\n",
    "results_dict = pd.DataFrame(results_dict).T\n",
    "results_dict"
   ]
  },
  {
   "cell_type": "markdown",
   "id": "a9489cb3-4891-41dc-bda6-8131bdcf63de",
   "metadata": {},
   "source": [
    "Hence, our baseline model has a validation score of 6.565 and a train score of 6.547.<br>\n",
    "<br>"
   ]
  },
  {
   "cell_type": "markdown",
   "id": "a65d586e-d07c-4216-8cf2-6ea82e31629f",
   "metadata": {},
   "source": [
    "## 6. Linear model(Ridge) <a name=\"6\"></a>\n",
    "<hr>"
   ]
  },
  {
   "cell_type": "markdown",
   "id": "ef16efa0-5200-4701-aafe-2226e001be13",
   "metadata": {},
   "source": [
    "We will use a linear model for this regression problem, and we choose ridge as our model since it has a hyperparameter that controls complexity which can be optimized later on. First we will use the default value to check its performance."
   ]
  },
  {
   "cell_type": "code",
   "execution_count": 11,
   "id": "f00ff03a-a91e-49ca-ba5f-713bf0ed759f",
   "metadata": {},
   "outputs": [
    {
     "name": "stderr",
     "output_type": "stream",
     "text": [
      "/tmp/ipykernel_245/1816060613.py:29: FutureWarning: Series.__getitem__ treating keys as positions is deprecated. In a future version, integer keys will always be treated as labels (consistent with DataFrame behavior). To access a value by position, use `ser.iloc[pos]`\n",
      "  out_col.append((f\"%0.3f (+/- %0.3f)\" % (mean_scores[i], std_scores[i])))\n",
      "/tmp/ipykernel_245/1816060613.py:27: FutureWarning: Series.__getitem__ treating keys as positions is deprecated. In a future version, integer keys will always be treated as labels (consistent with DataFrame behavior). To access a value by position, use `ser.iloc[pos]`\n",
      "  out_col.append((f\"%0.3f (+/- %0.3f)\" % (mean_scores[i]*-1, std_scores[i]*-1)))\n"
     ]
    },
    {
     "data": {
      "text/html": [
       "<div>\n",
       "<style scoped>\n",
       "    .dataframe tbody tr th:only-of-type {\n",
       "        vertical-align: middle;\n",
       "    }\n",
       "\n",
       "    .dataframe tbody tr th {\n",
       "        vertical-align: top;\n",
       "    }\n",
       "\n",
       "    .dataframe thead th {\n",
       "        text-align: right;\n",
       "    }\n",
       "</style>\n",
       "<table border=\"1\" class=\"dataframe\">\n",
       "  <thead>\n",
       "    <tr style=\"text-align: right;\">\n",
       "      <th></th>\n",
       "      <th>fit_time</th>\n",
       "      <th>score_time</th>\n",
       "      <th>test_score</th>\n",
       "      <th>train_score</th>\n",
       "    </tr>\n",
       "  </thead>\n",
       "  <tbody>\n",
       "    <tr>\n",
       "      <th>alpha = 1.0</th>\n",
       "      <td>0.006 (+/- 0.001)</td>\n",
       "      <td>0.002 (+/- 0.000)</td>\n",
       "      <td>6.516 (+/- -0.536)</td>\n",
       "      <td>6.505 (+/- -0.131)</td>\n",
       "    </tr>\n",
       "  </tbody>\n",
       "</table>\n",
       "</div>"
      ],
      "text/plain": [
       "                      fit_time         score_time          test_score  \\\n",
       "alpha = 1.0  0.006 (+/- 0.001)  0.002 (+/- 0.000)  6.516 (+/- -0.536)   \n",
       "\n",
       "                    train_score  \n",
       "alpha = 1.0  6.505 (+/- -0.131)  "
      ]
     },
     "execution_count": 11,
     "metadata": {},
     "output_type": "execute_result"
    }
   ],
   "source": [
    "ridge_default = {}\n",
    "\n",
    "## Ridge regression model with default hyperparameter alpha value.\n",
    "ridge = Ridge(random_state = 123, alpha = 1)\n",
    "ridge_pipe = make_pipeline(preprocessor, ridge)\n",
    "ridge_pipe.fit(X_train, y_train)\n",
    "\n",
    "ridge_default[\"alpha = 1.0\"] = mean_std_cross_val_scores(\n",
    "    ridge_pipe, X_train, y_train, cv = 5, scoring = \"neg_root_mean_squared_error\", return_train_score=True\n",
    ")\n",
    "ridge_default = pd.DataFrame(ridge_default).T\n",
    "ridge_default"
   ]
  },
  {
   "cell_type": "markdown",
   "id": "108d1933-f375-4514-8943-67e87cf4a05d",
   "metadata": {},
   "source": [
    "Hence, our ridge model has a validation score of 6.516 and a train score of 6.505. Let's try to improve this score with hyperaparemeter optimization. <br>\n",
    "<br>"
   ]
  },
  {
   "cell_type": "markdown",
   "id": "91d2f256-0ac9-448d-8cdb-9ef198107641",
   "metadata": {},
   "source": [
    "**Hyperparameter Optimization Alpha:**"
   ]
  },
  {
   "cell_type": "code",
   "execution_count": 12,
   "id": "67c11339-b8ea-41ee-8890-2e96fa2e2a5c",
   "metadata": {},
   "outputs": [
    {
     "name": "stderr",
     "output_type": "stream",
     "text": [
      "/tmp/ipykernel_245/1816060613.py:29: FutureWarning: Series.__getitem__ treating keys as positions is deprecated. In a future version, integer keys will always be treated as labels (consistent with DataFrame behavior). To access a value by position, use `ser.iloc[pos]`\n",
      "  out_col.append((f\"%0.3f (+/- %0.3f)\" % (mean_scores[i], std_scores[i])))\n",
      "/tmp/ipykernel_245/1816060613.py:27: FutureWarning: Series.__getitem__ treating keys as positions is deprecated. In a future version, integer keys will always be treated as labels (consistent with DataFrame behavior). To access a value by position, use `ser.iloc[pos]`\n",
      "  out_col.append((f\"%0.3f (+/- %0.3f)\" % (mean_scores[i]*-1, std_scores[i]*-1)))\n",
      "/tmp/ipykernel_245/1816060613.py:29: FutureWarning: Series.__getitem__ treating keys as positions is deprecated. In a future version, integer keys will always be treated as labels (consistent with DataFrame behavior). To access a value by position, use `ser.iloc[pos]`\n",
      "  out_col.append((f\"%0.3f (+/- %0.3f)\" % (mean_scores[i], std_scores[i])))\n",
      "/tmp/ipykernel_245/1816060613.py:27: FutureWarning: Series.__getitem__ treating keys as positions is deprecated. In a future version, integer keys will always be treated as labels (consistent with DataFrame behavior). To access a value by position, use `ser.iloc[pos]`\n",
      "  out_col.append((f\"%0.3f (+/- %0.3f)\" % (mean_scores[i]*-1, std_scores[i]*-1)))\n",
      "/tmp/ipykernel_245/1816060613.py:29: FutureWarning: Series.__getitem__ treating keys as positions is deprecated. In a future version, integer keys will always be treated as labels (consistent with DataFrame behavior). To access a value by position, use `ser.iloc[pos]`\n",
      "  out_col.append((f\"%0.3f (+/- %0.3f)\" % (mean_scores[i], std_scores[i])))\n",
      "/tmp/ipykernel_245/1816060613.py:27: FutureWarning: Series.__getitem__ treating keys as positions is deprecated. In a future version, integer keys will always be treated as labels (consistent with DataFrame behavior). To access a value by position, use `ser.iloc[pos]`\n",
      "  out_col.append((f\"%0.3f (+/- %0.3f)\" % (mean_scores[i]*-1, std_scores[i]*-1)))\n",
      "/tmp/ipykernel_245/1816060613.py:29: FutureWarning: Series.__getitem__ treating keys as positions is deprecated. In a future version, integer keys will always be treated as labels (consistent with DataFrame behavior). To access a value by position, use `ser.iloc[pos]`\n",
      "  out_col.append((f\"%0.3f (+/- %0.3f)\" % (mean_scores[i], std_scores[i])))\n",
      "/tmp/ipykernel_245/1816060613.py:27: FutureWarning: Series.__getitem__ treating keys as positions is deprecated. In a future version, integer keys will always be treated as labels (consistent with DataFrame behavior). To access a value by position, use `ser.iloc[pos]`\n",
      "  out_col.append((f\"%0.3f (+/- %0.3f)\" % (mean_scores[i]*-1, std_scores[i]*-1)))\n",
      "/tmp/ipykernel_245/1816060613.py:29: FutureWarning: Series.__getitem__ treating keys as positions is deprecated. In a future version, integer keys will always be treated as labels (consistent with DataFrame behavior). To access a value by position, use `ser.iloc[pos]`\n",
      "  out_col.append((f\"%0.3f (+/- %0.3f)\" % (mean_scores[i], std_scores[i])))\n",
      "/tmp/ipykernel_245/1816060613.py:27: FutureWarning: Series.__getitem__ treating keys as positions is deprecated. In a future version, integer keys will always be treated as labels (consistent with DataFrame behavior). To access a value by position, use `ser.iloc[pos]`\n",
      "  out_col.append((f\"%0.3f (+/- %0.3f)\" % (mean_scores[i]*-1, std_scores[i]*-1)))\n",
      "/tmp/ipykernel_245/1816060613.py:29: FutureWarning: Series.__getitem__ treating keys as positions is deprecated. In a future version, integer keys will always be treated as labels (consistent with DataFrame behavior). To access a value by position, use `ser.iloc[pos]`\n",
      "  out_col.append((f\"%0.3f (+/- %0.3f)\" % (mean_scores[i], std_scores[i])))\n",
      "/tmp/ipykernel_245/1816060613.py:27: FutureWarning: Series.__getitem__ treating keys as positions is deprecated. In a future version, integer keys will always be treated as labels (consistent with DataFrame behavior). To access a value by position, use `ser.iloc[pos]`\n",
      "  out_col.append((f\"%0.3f (+/- %0.3f)\" % (mean_scores[i]*-1, std_scores[i]*-1)))\n",
      "/tmp/ipykernel_245/1816060613.py:29: FutureWarning: Series.__getitem__ treating keys as positions is deprecated. In a future version, integer keys will always be treated as labels (consistent with DataFrame behavior). To access a value by position, use `ser.iloc[pos]`\n",
      "  out_col.append((f\"%0.3f (+/- %0.3f)\" % (mean_scores[i], std_scores[i])))\n",
      "/tmp/ipykernel_245/1816060613.py:27: FutureWarning: Series.__getitem__ treating keys as positions is deprecated. In a future version, integer keys will always be treated as labels (consistent with DataFrame behavior). To access a value by position, use `ser.iloc[pos]`\n",
      "  out_col.append((f\"%0.3f (+/- %0.3f)\" % (mean_scores[i]*-1, std_scores[i]*-1)))\n",
      "/tmp/ipykernel_245/1816060613.py:29: FutureWarning: Series.__getitem__ treating keys as positions is deprecated. In a future version, integer keys will always be treated as labels (consistent with DataFrame behavior). To access a value by position, use `ser.iloc[pos]`\n",
      "  out_col.append((f\"%0.3f (+/- %0.3f)\" % (mean_scores[i], std_scores[i])))\n",
      "/tmp/ipykernel_245/1816060613.py:27: FutureWarning: Series.__getitem__ treating keys as positions is deprecated. In a future version, integer keys will always be treated as labels (consistent with DataFrame behavior). To access a value by position, use `ser.iloc[pos]`\n",
      "  out_col.append((f\"%0.3f (+/- %0.3f)\" % (mean_scores[i]*-1, std_scores[i]*-1)))\n",
      "/tmp/ipykernel_245/1816060613.py:29: FutureWarning: Series.__getitem__ treating keys as positions is deprecated. In a future version, integer keys will always be treated as labels (consistent with DataFrame behavior). To access a value by position, use `ser.iloc[pos]`\n",
      "  out_col.append((f\"%0.3f (+/- %0.3f)\" % (mean_scores[i], std_scores[i])))\n",
      "/tmp/ipykernel_245/1816060613.py:27: FutureWarning: Series.__getitem__ treating keys as positions is deprecated. In a future version, integer keys will always be treated as labels (consistent with DataFrame behavior). To access a value by position, use `ser.iloc[pos]`\n",
      "  out_col.append((f\"%0.3f (+/- %0.3f)\" % (mean_scores[i]*-1, std_scores[i]*-1)))\n"
     ]
    },
    {
     "data": {
      "text/html": [
       "<div>\n",
       "<style scoped>\n",
       "    .dataframe tbody tr th:only-of-type {\n",
       "        vertical-align: middle;\n",
       "    }\n",
       "\n",
       "    .dataframe tbody tr th {\n",
       "        vertical-align: top;\n",
       "    }\n",
       "\n",
       "    .dataframe thead th {\n",
       "        text-align: right;\n",
       "    }\n",
       "</style>\n",
       "<table border=\"1\" class=\"dataframe\">\n",
       "  <thead>\n",
       "    <tr style=\"text-align: right;\">\n",
       "      <th></th>\n",
       "      <th>alpha</th>\n",
       "      <th>test_score</th>\n",
       "      <th>train_score</th>\n",
       "    </tr>\n",
       "  </thead>\n",
       "  <tbody>\n",
       "    <tr>\n",
       "      <th>0</th>\n",
       "      <td>0.010000</td>\n",
       "      <td>6.516 (+/- -0.536)</td>\n",
       "      <td>6.505 (+/- -0.131)</td>\n",
       "    </tr>\n",
       "    <tr>\n",
       "      <th>1</th>\n",
       "      <td>0.031623</td>\n",
       "      <td>6.516 (+/- -0.536)</td>\n",
       "      <td>6.505 (+/- -0.131)</td>\n",
       "    </tr>\n",
       "    <tr>\n",
       "      <th>2</th>\n",
       "      <td>0.100000</td>\n",
       "      <td>6.516 (+/- -0.536)</td>\n",
       "      <td>6.505 (+/- -0.131)</td>\n",
       "    </tr>\n",
       "    <tr>\n",
       "      <th>3</th>\n",
       "      <td>0.316228</td>\n",
       "      <td>6.516 (+/- -0.536)</td>\n",
       "      <td>6.505 (+/- -0.131)</td>\n",
       "    </tr>\n",
       "    <tr>\n",
       "      <th>4</th>\n",
       "      <td>1.000000</td>\n",
       "      <td>6.516 (+/- -0.536)</td>\n",
       "      <td>6.505 (+/- -0.131)</td>\n",
       "    </tr>\n",
       "    <tr>\n",
       "      <th>5</th>\n",
       "      <td>3.162278</td>\n",
       "      <td>6.516 (+/- -0.536)</td>\n",
       "      <td>6.505 (+/- -0.131)</td>\n",
       "    </tr>\n",
       "    <tr>\n",
       "      <th>6</th>\n",
       "      <td>10.000000</td>\n",
       "      <td>6.516 (+/- -0.537)</td>\n",
       "      <td>6.505 (+/- -0.131)</td>\n",
       "    </tr>\n",
       "    <tr>\n",
       "      <th>7</th>\n",
       "      <td>31.622777</td>\n",
       "      <td>6.515 (+/- -0.539)</td>\n",
       "      <td>6.505 (+/- -0.131)</td>\n",
       "    </tr>\n",
       "    <tr>\n",
       "      <th>8</th>\n",
       "      <td>100.000000</td>\n",
       "      <td>6.514 (+/- -0.543)</td>\n",
       "      <td>6.505 (+/- -0.131)</td>\n",
       "    </tr>\n",
       "  </tbody>\n",
       "</table>\n",
       "</div>"
      ],
      "text/plain": [
       "        alpha          test_score         train_score\n",
       "0    0.010000  6.516 (+/- -0.536)  6.505 (+/- -0.131)\n",
       "1    0.031623  6.516 (+/- -0.536)  6.505 (+/- -0.131)\n",
       "2    0.100000  6.516 (+/- -0.536)  6.505 (+/- -0.131)\n",
       "3    0.316228  6.516 (+/- -0.536)  6.505 (+/- -0.131)\n",
       "4    1.000000  6.516 (+/- -0.536)  6.505 (+/- -0.131)\n",
       "5    3.162278  6.516 (+/- -0.536)  6.505 (+/- -0.131)\n",
       "6   10.000000  6.516 (+/- -0.537)  6.505 (+/- -0.131)\n",
       "7   31.622777  6.515 (+/- -0.539)  6.505 (+/- -0.131)\n",
       "8  100.000000  6.514 (+/- -0.543)  6.505 (+/- -0.131)"
      ]
     },
     "execution_count": 12,
     "metadata": {},
     "output_type": "execute_result"
    }
   ],
   "source": [
    "train_scores = []\n",
    "test_scores = []\n",
    "\n",
    "alpha_vals = 10.0 ** np.arange(-2, 2.5, 0.5)\n",
    "\n",
    "for A in alpha_vals:\n",
    "    test_pipe = make_pipeline(preprocessor, Ridge(alpha = A))    \n",
    "    cv_results = mean_std_cross_val_scores(test_pipe, X_train, y_train, scoring = \"neg_root_mean_squared_error\", return_train_score=True)\n",
    "    train_scores.append(cv_results[\"train_score\"])\n",
    "    test_scores.append(cv_results[\"test_score\"])\n",
    "    \n",
    "pd.DataFrame({\"alpha\": alpha_vals, \"test_score\": test_scores, \"train_score\": train_scores})"
   ]
  },
  {
   "cell_type": "markdown",
   "id": "7ba95d57-f4bb-4239-a9b7-947c8a9d7e50",
   "metadata": {},
   "source": [
    "Here we can see that for different values of hyperparameter Alpha, the test and train score relatively stays the same. In this case, we would jsut pick the default value as complexcity does not matter for Ridge model with this dataset.<br>\n",
    "<br>"
   ]
  },
  {
   "cell_type": "markdown",
   "id": "1ece50fb-81c3-4ef4-a067-e6e983306c3b",
   "metadata": {},
   "source": [
    "## 7. Performance on the test set <a name=\"7\"></a>\n",
    "<hr>"
   ]
  },
  {
   "cell_type": "code",
   "execution_count": 13,
   "id": "b9538851-db1c-4856-b557-38e3ea49fd83",
   "metadata": {},
   "outputs": [
    {
     "name": "stdout",
     "output_type": "stream",
     "text": [
      "Test Score: 6.472293648117765\n"
     ]
    }
   ],
   "source": [
    "best_model = Ridge(alpha = 1.0)\n",
    "best_pipe = make_pipeline(preprocessor, best_model)\n",
    "best_pipe.fit(X_train, y_train)\n",
    "\n",
    "y_pred = pd.Series(best_pipe.predict(X_test))\n",
    "\n",
    "test_score = mean_squared_error(\n",
    "    y_true = y_test,\n",
    "    y_pred = y_pred\n",
    ")**(1/2)\n",
    "\n",
    "print(\"Test Score:\", test_score)"
   ]
  },
  {
   "cell_type": "markdown",
   "id": "f0fe79de-beb2-4585-bc70-f8fe9ecf9be4",
   "metadata": {},
   "source": [
    "Hence the test score of our regression model is approximately 6.47. which is very similar with our validation score. This leads to our belief of no optimization bias occuring in our model."
   ]
  },
  {
   "cell_type": "markdown",
   "id": "35e3b3a8-9666-4fa6-b05d-191789c90d6e",
   "metadata": {},
   "source": [
    "## 8. Conclusion and Discussion <a name=\"8\"></a>\n",
    "<hr>"
   ]
  },
  {
   "cell_type": "markdown",
   "id": "c61e1849-4fd5-438a-bea8-2ef99c4a50ae",
   "metadata": {},
   "source": [
    "The Ridge model's score did not differ much from our baseline model's score, this shows that either our model does not generalize very well for this dataset, or the baseline model already gave a decent generalization for this dataset. The problem seems to be more possible for the former. We could try to use different regression models for the future, but I believe a classification model would work good too. An example of classification model that could be used are Boosted Trees(XgBoost), K-NN, or even logistic regression. "
   ]
  }
 ],
 "metadata": {
  "kernelspec": {
   "display_name": "Python 3 (ipykernel)",
   "language": "python",
   "name": "python3"
  },
  "language_info": {
   "codemirror_mode": {
    "name": "ipython",
    "version": 3
   },
   "file_extension": ".py",
   "mimetype": "text/x-python",
   "name": "python",
   "nbconvert_exporter": "python",
   "pygments_lexer": "ipython3",
   "version": "3.11.6"
  }
 },
 "nbformat": 4,
 "nbformat_minor": 5
}
